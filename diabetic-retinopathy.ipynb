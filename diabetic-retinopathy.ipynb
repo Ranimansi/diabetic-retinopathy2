{
  "nbformat": 4,
  "nbformat_minor": 0,
  "metadata": {
    "colab": {
      "provenance": []
    },
    "kernelspec": {
      "name": "python3",
      "display_name": "Python 3"
    },
    "language_info": {
      "name": "python"
    }
  },
  "cells": [
    {
      "cell_type": "code",
      "execution_count": null,
      "metadata": {
        "id": "3ePsgfkvydlh"
      },
      "outputs": [],
      "source": [
        "!unzip /content/diabetic-retinopathy-dataset.zip -d /content/dataset\n"
      ]
    },
    {
      "cell_type": "code",
      "source": [
        "import numpy as np\n",
        "import random\n",
        "import matplotlib.pyplot as plt\n",
        "from tensorflow.keras.models import Sequential\n",
        "from tensorflow.keras.layers import Dense, Conv2D, Flatten, MaxPooling2D\n",
        "from tensorflow.keras.utils import to_categorical\n",
        "from tensorflow.keras.preprocessing.image import ImageDataGenerator"
      ],
      "metadata": {
        "id": "eREw1Cdhyl-5"
      },
      "execution_count": null,
      "outputs": []
    },
    {
      "cell_type": "code",
      "source": [
        "import os\n",
        "from zipfile import ZipFile\n",
        "from sklearn.model_selection import train_test_split\n",
        "\n",
        "\n",
        "zip_file_path = '/content/diabetic-retinopathy-dataset.zip'"
      ],
      "metadata": {
        "id": "5Vvi0DXQyogO"
      },
      "execution_count": null,
      "outputs": []
    },
    {
      "cell_type": "code",
      "source": [
        "extraction_path = '/content/dataset'\n"
      ],
      "metadata": {
        "id": "K3STkQRAyrUP"
      },
      "execution_count": null,
      "outputs": []
    },
    {
      "cell_type": "code",
      "source": [
        "with ZipFile(zip_file_path, 'r') as zip_ref:\n",
        "     zip_ref.extractall(extraction_path)\n",
        "\n",
        "dataset_path = extraction_path\n",
        "train_path = '/content/train'\n",
        "val_path = '/content/val'\n"
      ],
      "metadata": {
        "id": "pwDBWxqFyuMK"
      },
      "execution_count": null,
      "outputs": []
    },
    {
      "cell_type": "code",
      "source": [
        "contents = os.listdir('/content')\n",
        "print(contents)\n"
      ],
      "metadata": {
        "id": "kuUtng3KywdV"
      },
      "execution_count": null,
      "outputs": []
    },
    {
      "cell_type": "code",
      "source": [
        "for cls in os.listdir(dataset_path):\n",
        "    os.makedirs(os.path.join(train_path, cls), exist_ok=True)\n",
        "    os.makedirs(os.path.join(val_path, cls), exist_ok=True)\n",
        ""
      ],
      "metadata": {
        "id": "oCIEM7-LyySF"
      },
      "execution_count": null,
      "outputs": []
    },
    {
      "cell_type": "code",
      "source": [
        "for cls in os.listdir(dataset_path):\n",
        "    cls_path = os.path.join(dataset_path, cls)\n",
        "    images = os.listdir(cls_path)\n",
        "    train_images, val_images = train_test_split(images, test_size=0.2, random_state=42)\n"
      ],
      "metadata": {
        "id": "XWyBiGRSy0lH"
      },
      "execution_count": null,
      "outputs": []
    },
    {
      "cell_type": "code",
      "source": [
        "for img in train_images:\n",
        "        src = os.path.join(cls_path, img)\n",
        "        dest = os.path.join(train_path, cls, img)\n",
        "        os.rename(src, dest)\n",
        ""
      ],
      "metadata": {
        "id": "EJm8ZKUty20d"
      },
      "execution_count": null,
      "outputs": []
    },
    {
      "cell_type": "code",
      "source": [
        "for img in val_images:\n",
        "        src = os.path.join(cls_path, img)\n",
        "        dest = os.path.join(val_path, cls, img)\n",
        "        os.rename(src, dest)"
      ],
      "metadata": {
        "id": "Qra_sooLy5AH"
      },
      "execution_count": null,
      "outputs": []
    },
    {
      "cell_type": "code",
      "source": [
        "history = model.fit(\n",
        "    train_generator,\n",
        "    steps_per_epoch=train_generator.samples\n",
        "    epochs=15,\n",
        "    validation_data=validation_generator,\n",
        "    validation_steps=validation_generator.samples\n",
        ")\n",
        "\n",
        "loss, accuracy = model.evaluate(validation_generator)\n",
        "print(f'Validation Loss: {loss}, Validation Accuracy: {accuracy}')\n",
        ""
      ],
      "metadata": {
        "id": "A1Rzn1PYy7iV"
      },
      "execution_count": null,
      "outputs": []
    }
  ]
}